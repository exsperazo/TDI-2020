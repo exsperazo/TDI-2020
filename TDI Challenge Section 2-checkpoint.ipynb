{
 "cells": [
  {
   "cell_type": "markdown",
   "metadata": {},
   "source": [
    "<h3>Question 1</h3>\n",
    "What fraction of all construction permits in this data set correspond to renewed permits? The filing type is recorded under column 'Filing Status'. For first-time permits the value in this column is 'INITIAL' and for renewed permits it is 'RENEWAL'."
   ]
  },
  {
   "cell_type": "code",
   "execution_count": 1,
   "metadata": {
    "collapsed": false
   },
   "outputs": [
    {
     "name": "stderr",
     "output_type": "stream",
     "text": [
      "C:\\toolkits\\Anaconda3\\lib\\importlib\\_bootstrap.py:222: RuntimeWarning: numpy.dtype size changed, may indicate binary incompatibility. Expected 88 from C header, got 96 from PyObject\n",
      "  return f(*args, **kwds)\n"
     ]
    },
    {
     "name": "stdout",
     "output_type": "stream",
     "text": [
      "Index(['BOROUGH', 'Postcode', 'Filing Status', 'Filing Date', 'Issuance Date',\n",
      "       'Expiration Date', 'Job Start Date', 'Owner's Business Type'],\n",
      "      dtype='object')\n",
      "Proportion of renewed permits: 0.23756920864755\n"
     ]
    }
   ],
   "source": [
    "import numpy as np\n",
    "import pandas as pd\n",
    "#Only loading required columns to spare memory\n",
    "data = pd.read_csv(\"C:/tdi/Historical_DOB_Permit_Issuance.csv\", usecols=['Filing Status', 'Expiration Date', \\\n",
    "'Issuance Date', 'BOROUGH', 'Job Start Date', \"Owner's Business Type\", 'Filing Date', 'Postcode'])\n",
    "print(data.columns)\n",
    "renewal_status = data['Filing Status'].value_counts()\n",
    "proportion = renewal_status.loc['RENEWAL']/(renewal_status.loc['INITIAL'] + renewal_status.loc['RENEWAL'])\n",
    "print(\"Proportion of renewed permits:\", proportion)"
   ]
  },
  {
   "cell_type": "markdown",
   "metadata": {
    "collapsed": false
   },
   "source": [
    "<h3>Question 2</h3>\n",
    "Consider only those permits that were issued for more than 365 days. The date on which a permit was issued is recorded in column 'Issuance Date', the date the permit expires is in column 'Expiration Date'. What fraction of these at least year-long permits were issued in the borough with the highest number of such permits? The borough where the construction will take place is in column 'BOROUGH'."
   ]
  },
  {
   "cell_type": "code",
   "execution_count": 2,
   "metadata": {
    "collapsed": false
   },
   "outputs": [
    {
     "name": "stdout",
     "output_type": "stream",
     "text": [
      "Proportion of max borough: 0.44938589413557717\n"
     ]
    }
   ],
   "source": [
    "data['Expiration Date'] = pd.to_datetime(data['Expiration Date'], format=\"%Y-%m-%d %H:%M:%S\")\n",
    "data['Issuance Date'] = pd.to_datetime(data['Issuance Date'], format=\"%Y-%m-%d %H:%M:%S\")\n",
    "data['Job Start Date'] = pd.to_datetime(data['Issuance Date'], format=\"%Y-%m-%d %H:%M:%S\")\n",
    "data['Filing Date'] = pd.to_datetime(data['Filing Date'], format=\"%Y-%m-%d %H:%M:%S\")\n",
    "data['days_between'] = (data['Expiration Date'] - data['Issuance Date']).dt.days\n",
    "borough_select = data.loc[data['days_between'] > 365.0]\n",
    "borough_grp = borough_select.groupby(['BOROUGH'])\n",
    "max_borough = borough_grp['BOROUGH'].count().max()\n",
    "at_least_year_long = borough_grp['BOROUGH'].count().sum()\n",
    "print(\"Proportion of max borough:\", max_borough/at_least_year_long)"
   ]
  },
  {
   "cell_type": "markdown",
   "metadata": {
    "collapsed": false
   },
   "source": [
    "<h3>Question 3 </h3>\n",
    "Observe how the number of issued permits changes accross the years. Limit your analysis to years 1990-2012 (both inclusive). What is the coefficient of determination (R squared) between the year a permit was issued and the number of issued permits that year? The column recording the date when a permit was issued is called 'Issuance Date'."
   ]
  },
  {
   "cell_type": "code",
   "execution_count": 3,
   "metadata": {
    "collapsed": false
   },
   "outputs": [
    {
     "name": "stdout",
     "output_type": "stream",
     "text": [
      "R squared value: 0.9134876316647814\n"
     ]
    }
   ],
   "source": [
    "select_year = data.loc[(data['Issuance Date'] >= pd.to_datetime('1990-01-01')) & \\\n",
    "                       (data['Issuance Date'] <= pd.to_datetime('2012-01-01')), ['Issuance Date', 'Job Start Date',\\\n",
    "                       'days_between']]\n",
    "select_year['Year'] = pd.DatetimeIndex(select_year['Issuance Date']).year\n",
    "select_dframe = pd.DataFrame({'count' : select_year.groupby( ['Year'] ).size()}).reset_index()\n",
    "correlation_matrix = np.corrcoef(select_dframe['Year'], select_dframe['count'])\n",
    "correlation_xy = correlation_matrix[0,1]\n",
    "r_squared = correlation_xy**2\n",
    "print(\"R squared value:\", r_squared)"
   ]
  },
  {
   "cell_type": "markdown",
   "metadata": {
    "collapsed": true
   },
   "source": [
    "<h3>Question 4</h3>\n",
    "If we look at how permit duration varies with the construction start date, it appears like jobs that start in November tend to have shorter permit duration. The date of construction job start is recorded in column 'Job Start Date'. The date on which a permit was issued is recorded in column 'Issuance Date', the date the permit expires is in column 'Expiration Date'. Calculate the chi-square test statistic for testing whether a permit is more likely to be issued for less than 60 days when construction job start date is November. Again limit your analysis to data from years 1990-2012 (both inclusive)."
   ]
  },
  {
   "cell_type": "code",
   "execution_count": 4,
   "metadata": {
    "collapsed": false
   },
   "outputs": [
    {
     "name": "stdout",
     "output_type": "stream",
     "text": [
      "Chi square: 7580.434070204366\n"
     ]
    }
   ],
   "source": [
    "select_year['november_start'] = select_year['Job Start Date'].map(lambda x: x.month) == 11\n",
    "select_year['less_than_60'] = select_year['days_between'] < 60\n",
    "november_and_less_than = select_year.loc[(select_year['november_start'] == True) & \\\n",
    "                                          (select_year['less_than_60'] == True)].shape[0]\n",
    "november_and_greater_than = select_year.loc[(select_year['november_start'] == True) & \\\n",
    "                                          (select_year['less_than_60'] == False)].shape[0]\n",
    "not_november_less_than = select_year.loc[(select_year['november_start'] == False) & \\\n",
    "                                          (select_year['less_than_60'] == True)].shape[0]\n",
    "not_november_greater_than = select_year.loc[(select_year['november_start'] == False) & \\\n",
    "                                          (select_year['less_than_60'] == False)].shape[0]\n",
    "november_total = november_and_greater_than + november_and_less_than\n",
    "not_november_total = not_november_less_than + not_november_greater_than\n",
    "less_than_total = not_november_less_than + november_and_less_than\n",
    "greater_than_total  = not_november_greater_than + november_and_greater_than\n",
    "total = november_total + not_november_total\n",
    "e_nov_less_than = (november_total * less_than_total)/total\n",
    "e_nov_greater_than = (november_total * greater_than_total)/total\n",
    "e_not_nov_less_than = (not_november_total * less_than_total)/total\n",
    "e_not_nov_greater_than = (not_november_total * greater_than_total)/total\n",
    "c1 = (november_and_less_than - e_nov_less_than)**2/e_nov_less_than\n",
    "c2 = (november_and_greater_than - e_nov_greater_than)**2/e_nov_greater_than\n",
    "c3 = (not_november_less_than - e_not_nov_less_than)**2/e_not_nov_less_than\n",
    "c4 = (not_november_greater_than - e_not_nov_greater_than)**2/e_not_nov_greater_than\n",
    "print(\"Chi square:\", (c1 + c2 + c3 + c4))"
   ]
  },
  {
   "cell_type": "markdown",
   "metadata": {},
   "source": [
    "<h3>Question 5</h3>\n",
    "The filing type of a permit is recorded under column 'Filing Status'. For first-time permits the value in this column is 'INITIAL' and for renewed permits it is 'RENEWAL'. What kind of an owner the permit was issued to is recorded in the column \"Owner's Business Type\", for corporations the value is 'CORPORATION', for individuals it is 'INDIVIDUAL'. If you consider only renewed permits, what is the ratio of the number of permits issued to corporations to the number of permits issued to individuals?"
   ]
  },
  {
   "cell_type": "code",
   "execution_count": 5,
   "metadata": {
    "collapsed": false
   },
   "outputs": [
    {
     "name": "stdout",
     "output_type": "stream",
     "text": [
      "Ratio of Corporation to Individual permits: 1.0805818771914573\n"
     ]
    }
   ],
   "source": [
    "renewals = data.loc[data['Filing Status'] == 'RENEWAL', [\"Owner's Business Type\"]]\n",
    "permit_types = renewals[\"Owner's Business Type\"].value_counts()\n",
    "print(\"Ratio of Corporation to Individual permits:\", permit_types['CORPORATION']/permit_types['INDIVIDUAL'])"
   ]
  },
  {
   "cell_type": "markdown",
   "metadata": {},
   "source": [
    "<h3>Question 6</h3>\n",
    "Limit your analysis to permits that were filed in 2010. The column recording the date of permit filing is called 'Filing Date'. For each ZIP code compute the ratio between the number of permits issued in 2010 and number of residents in that ZIP code. Make sure to discard any ZIP codes with population lower than 1000 people. Note: you will need to use both the DOB permits dataset and the US Census dataset. In the DOB permits dataset, the ZIP code is recorded under column 'Postcode'. How many ZIP codes are outliers in terms of number of construction permits per number of people - more specificaly, for how many ZIP codes does this computed ratio exceed the mean by more than twice the standard deviation?"
   ]
  },
  {
   "cell_type": "code",
   "execution_count": 6,
   "metadata": {
    "collapsed": false
   },
   "outputs": [
    {
     "name": "stdout",
     "output_type": "stream",
     "text": [
      "Index(['Postcode', 'count', 'population'], dtype='object')\n",
      "Number of outlier zipcodes: 8\n"
     ]
    }
   ],
   "source": [
    "data_2010 = data.loc[data['Filing Date'].map(lambda x: x.year) == 2010, ['Postcode']]\n",
    "data_population = pd.read_csv(\"C:/tdi/2010+Census+Population+By+Zipcode+(ZCTA).csv\")\n",
    "data_population.rename(columns={'Zip Code ZCTA':'Postcode', '2010 Census Population': 'population'}, \\\n",
    "                       inplace=True)\n",
    "data_by_postcode = pd.DataFrame({'count' : data.groupby( ['Postcode'] ).size()}).reset_index()\n",
    "data_by_postcode.Postcode = data_by_postcode.Postcode.astype(int)\n",
    "data_population.Postcode = data_population.Postcode.astype(int)\n",
    "data_by_postcode.set_index('Postcode')\n",
    "data_population.set_index('Postcode')\n",
    "merged_all = pd.merge(data_by_postcode, data_population, on='Postcode', how=\"inner\")\n",
    "print(merged_all.columns)\n",
    "merged_filtered = merged_all.loc[merged_all['population'] >= 1000, ['count', 'population']] \n",
    "merged_filtered['count_pop_ratio'] = merged_filtered['count']/merged_filtered['population']\n",
    "mean = merged_filtered['count_pop_ratio'].mean()\n",
    "std2 = 2 * merged_filtered['count_pop_ratio'].std() \n",
    "merged_filtered['outlier'] = abs(merged_filtered['count_pop_ratio'] - mean) > std2\n",
    "print(\"Number of outlier zipcodes:\", merged_filtered['outlier'].value_counts()[1])"
   ]
  },
  {
   "cell_type": "markdown",
   "metadata": {},
   "source": [
    "<h3>Question 7</h3>\n",
    "Let's investigate how the number of construction jobs that start in the summer vs the winter changes across the years. The date of construction job start is recorded in column 'Job Start Date'. For every year, compute the ratio between the number of construction jobs that start in the peak of summer (in July and August) and the number of jobs that start in the peak of winter (in January and February). Again limit your analysis to years 1990-2012 (both inclusive). Find the year when this ratio was maximal - what was the value of this ratio for that year?"
   ]
  },
  {
   "cell_type": "code",
   "execution_count": 7,
   "metadata": {
    "collapsed": false
   },
   "outputs": [
    {
     "name": "stdout",
     "output_type": "stream",
     "text": [
      "Maximal ratio: 3.4930232558139536\n"
     ]
    }
   ],
   "source": [
    "select_year['summer_start'] = (select_year['Job Start Date'].map(lambda x: x.month) == 7) | (select_year['Job Start Date'].map(lambda x: x.month) == 8)\n",
    "select_year['winter_start'] = (select_year['Job Start Date'].map(lambda x: x.month) == 1) | (select_year['Job Start Date'].map(lambda x: x.month) == 2)\n",
    "summer_starts = select_year.loc[select_year['summer_start'] == True, ['Year', 'summer_start']]\n",
    "summer_grp = pd.DataFrame({'count_summer' : summer_starts.groupby( ['Year', 'summer_start'] ).size()}).reset_index()\n",
    "winter_starts = select_year.loc[select_year['winter_start'] == True, ['Year', 'winter_start']]\n",
    "winter_grp = pd.DataFrame({'count_winter' : winter_starts.groupby( ['Year', 'winter_start'] ).size()}).reset_index()\n",
    "merged_starts = pd.merge(summer_grp, winter_grp, on='Year', how=\"inner\")\n",
    "merged_starts['ratio'] = merged_starts['count_summer']/merged_starts['count_winter']\n",
    "merged_starts.set_index(['Year'])\n",
    "#print(merged_starts['ratio'].max())\n",
    "print(\"Maximal ratio:\", merged_starts.loc[merged_starts['ratio'].idxmax()]['ratio'])"
   ]
  },
  {
   "cell_type": "code",
   "execution_count": null,
   "metadata": {
    "collapsed": true
   },
   "outputs": [],
   "source": []
  }
 ],
 "metadata": {
  "anaconda-cloud": {},
  "kernelspec": {
   "display_name": "Python [default]",
   "language": "python",
   "name": "python3"
  },
  "language_info": {
   "codemirror_mode": {
    "name": "ipython",
    "version": 3
   },
   "file_extension": ".py",
   "mimetype": "text/x-python",
   "name": "python",
   "nbconvert_exporter": "python",
   "pygments_lexer": "ipython3",
   "version": "3.5.2"
  }
 },
 "nbformat": 4,
 "nbformat_minor": 1
}
