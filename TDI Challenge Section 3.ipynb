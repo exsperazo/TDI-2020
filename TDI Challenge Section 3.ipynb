{
 "cells": [
  {
   "cell_type": "markdown",
   "metadata": {},
   "source": [
    "We are going to play a simple game. We start with 0 points. We will flip a coin. If it comes up heads, we get a point. If comes up tails, we double our current score.\n",
    "\n",
    "For example, if we got HTH, we would have ((0+1)∗2+1)=3 points, but if we got THT, we would have ((0)∗2+1)∗2=2 points.\n"
   ]
  },
  {
   "cell_type": "markdown",
   "metadata": {},
   "source": [
    "<b>Let's start with a fair coin. What is our expected score after 5 flips?</b>"
   ]
  },
  {
   "cell_type": "code",
   "execution_count": 1,
   "metadata": {
    "collapsed": false
   },
   "outputs": [
    {
     "name": "stdout",
     "output_type": "stream",
     "text": [
      "Expected score after 5 flips: 6.59375\n"
     ]
    }
   ],
   "source": [
    "import itertools\n",
    "import numpy as np\n",
    "import math \n",
    "from random import seed\n",
    "from random import random\n",
    "#Expected Score    \n",
    "def score(sequence):\n",
    "    score = 0\n",
    "    for i in sequence:\n",
    "        if i == 'H':\n",
    "            score += 1\n",
    "        else:\n",
    "            score += score\n",
    "    return(score)\n",
    "\n",
    "def expected_score(n_tries):\n",
    "    outcomes = list(itertools.product(\"HT\", repeat=n_tries)) \n",
    "    scores = [score(outcome) for outcome in outcomes]\n",
    "    scores_arr = np.array(scores)\n",
    "    return np.mean(scores_arr)\n",
    "\n",
    "print(\"Expected score after 5 flips:\", expected_score(5))"
   ]
  },
  {
   "cell_type": "markdown",
   "metadata": {},
   "source": [
    "<b>What is our expected score after 15 flips?</b>"
   ]
  },
  {
   "cell_type": "code",
   "execution_count": 2,
   "metadata": {
    "collapsed": false
   },
   "outputs": [
    {
     "name": "stdout",
     "output_type": "stream",
     "text": [
      "Expected score after 15 flips: 436.8938903808594\n"
     ]
    }
   ],
   "source": [
    "print(\"Expected score after 15 flips:\", expected_score(15))"
   ]
  },
  {
   "cell_type": "markdown",
   "metadata": {},
   "source": [
    "<b>After 10 flips, what is the probability our score is a power of two? Express this probability as a number between 0 and 1</b>"
   ]
  },
  {
   "cell_type": "code",
   "execution_count": 3,
   "metadata": {
    "collapsed": false
   },
   "outputs": [
    {
     "name": "stdout",
     "output_type": "stream",
     "text": [
      "Probability that score is power of 2 after 10 flips: 0.0751953125\n"
     ]
    }
   ],
   "source": [
    "def power_of_two(n_tries):\n",
    "    outcomes = list(itertools.product(\"HT\", repeat=n_tries))\n",
    "    len_outcomes = len(outcomes)\n",
    "    power_of_two_counts = 0\n",
    "    for i in range(0, len_outcomes):\n",
    "        n = score(outcomes[i])\n",
    "        if (n & (n-1) == 0) and n != 0:\n",
    "            power_of_two_counts += 1\n",
    "    return power_of_two_counts/len_outcomes\n",
    "\n",
    "print(\"Probability that score is power of 2 after 10 flips:\", power_of_two(10))"
   ]
  },
  {
   "cell_type": "markdown",
   "metadata": {},
   "source": [
    "<b>What is the standard deviation?</b>"
   ]
  },
  {
   "cell_type": "code",
   "execution_count": 5,
   "metadata": {
    "collapsed": false
   },
   "outputs": [
    {
     "name": "stdout",
     "output_type": "stream",
     "text": [
      "Score standard deviation after 10 tries: 55.583904310131445\n"
     ]
    }
   ],
   "source": [
    "#Standard deviation after 10 flips\n",
    "def std_scores(n_tries):\n",
    "    outcomes = list(itertools.product(\"HT\", repeat=n_tries))\n",
    "    scores = [score(outcome) for outcome in outcomes]\n",
    "    scores_arr = np.array(scores)\n",
    "    return np.std(scores_arr)\n",
    "    \n",
    "print(\"Score standard deviation after 10 tries:\", std_scores(10))"
   ]
  },
  {
   "cell_type": "markdown",
   "metadata": {},
   "source": [
    "<b>Suppose we played the game many times, with five flips each. What is the expected standard deviation of the scores?</b>"
   ]
  },
  {
   "cell_type": "code",
   "execution_count": 9,
   "metadata": {
    "collapsed": false
   },
   "outputs": [
    {
     "name": "stdout",
     "output_type": "stream",
     "text": [
      "Expected_standard_deviation: 1.118033988749895\n"
     ]
    }
   ],
   "source": [
    "def binomial(n_tries, success_prob):\n",
    "    return n_tries*success_prob*(1-success_prob)\n",
    "print(\"Expected_standard_deviation:\", math.sqrt(binomial(5, 0.5)))\n"
   ]
  },
  {
   "cell_type": "markdown",
   "metadata": {},
   "source": [
    "<b>What is the standard deviation?</b>"
   ]
  },
  {
   "cell_type": "code",
   "execution_count": 8,
   "metadata": {
    "collapsed": false
   },
   "outputs": [
    {
     "name": "stdout",
     "output_type": "stream",
     "text": [
      "Score standard deviation after 5 tries: 3.7902784775659955\n"
     ]
    }
   ],
   "source": [
    "print(\"Score standard deviation after 5 tries:\", std_scores(5))"
   ]
  },
  {
   "cell_type": "markdown",
   "metadata": {},
   "source": [
    "<b>We will start a new game, now with an unfair coin. It has a 2/3 probability of heads, and a 1/3 probability of tails. What is our expected score after 10 flips?</b>"
   ]
  },
  {
   "cell_type": "code",
   "execution_count": 10,
   "metadata": {
    "collapsed": false
   },
   "outputs": [
    {
     "name": "stdout",
     "output_type": "stream",
     "text": [
      "Expected score with biased coin after 10 flips: 37.2\n"
     ]
    }
   ],
   "source": [
    "def biased_coin_expected(n_tries, proba_heads):\n",
    "    outcomes = list(itertools.product(\"HT\", repeat=n_tries))\n",
    "    threshold = proba_heads * n_tries\n",
    "    scores = [score(outcome) for outcome in outcomes if outcome.count('H') == int(threshold)]\n",
    "    scores_arr = np.array(scores)\n",
    "    return np.mean(scores_arr)\n",
    "print(\"Expected score with biased coin after 10 flips:\", biased_coin_expected(10, 0.67))           \n",
    "    "
   ]
  },
  {
   "cell_type": "markdown",
   "metadata": {},
   "source": [
    "<b>If we can choose how unfair our coin is, what probability of heads gives us the highest expected score for 10 flips? Express this probability as a number between 0 and 1</b>"
   ]
  },
  {
   "cell_type": "code",
   "execution_count": 11,
   "metadata": {
    "collapsed": false
   },
   "outputs": [
    {
     "name": "stdout",
     "output_type": "stream",
     "text": [
      "Probability returning maximum expected score for biased coin after 10 flips: 0.2\n"
     ]
    }
   ],
   "source": [
    "def biased_coin_max(n_tries):\n",
    "    expected_scores= []\n",
    "    i = 0.0\n",
    "    while i <= 1.0:\n",
    "        expected_scores.append([biased_coin_expected(n_tries, i), i])\n",
    "        i += 0.1\n",
    "    return expected_scores\n",
    "\n",
    "x = np.array(biased_coin_max(10))\n",
    "#print(x)\n",
    "y = x[x[:,0].argsort()][::-1]\n",
    "print(\"Probability returning maximum expected score for biased coin after 10 flips:\", y[0][1])\n"
   ]
  },
  {
   "cell_type": "code",
   "execution_count": null,
   "metadata": {
    "collapsed": true
   },
   "outputs": [],
   "source": []
  }
 ],
 "metadata": {
  "kernelspec": {
   "display_name": "Python [default]",
   "language": "python",
   "name": "python3"
  },
  "language_info": {
   "codemirror_mode": {
    "name": "ipython",
    "version": 3
   },
   "file_extension": ".py",
   "mimetype": "text/x-python",
   "name": "python",
   "nbconvert_exporter": "python",
   "pygments_lexer": "ipython3",
   "version": "3.5.2"
  }
 },
 "nbformat": 4,
 "nbformat_minor": 1
}
